{
 "cells": [
  {
   "cell_type": "code",
   "execution_count": 10,
   "id": "76d2b6df",
   "metadata": {},
   "outputs": [],
   "source": [
    "import pandas as pd\n",
    "\n",
    "df = pd.read_csv('movies.csv')\n"
   ]
  },
  {
   "cell_type": "code",
   "execution_count": 11,
   "id": "b10d5ae6",
   "metadata": {},
   "outputs": [
    {
     "name": "stdout",
     "output_type": "stream",
     "text": [
      "Requirement already satisfied: seaborn in ./anaconda3/lib/python3.11/site-packages (0.12.2)\n",
      "Requirement already satisfied: matplotlib in ./anaconda3/lib/python3.11/site-packages (3.7.2)\n",
      "Requirement already satisfied: numpy!=1.24.0,>=1.17 in ./anaconda3/lib/python3.11/site-packages (from seaborn) (1.24.3)\n",
      "Requirement already satisfied: pandas>=0.25 in ./anaconda3/lib/python3.11/site-packages (from seaborn) (2.0.3)\n",
      "Requirement already satisfied: contourpy>=1.0.1 in ./anaconda3/lib/python3.11/site-packages (from matplotlib) (1.0.5)\n",
      "Requirement already satisfied: cycler>=0.10 in ./anaconda3/lib/python3.11/site-packages (from matplotlib) (0.11.0)\n",
      "Requirement already satisfied: fonttools>=4.22.0 in ./anaconda3/lib/python3.11/site-packages (from matplotlib) (4.25.0)\n",
      "Requirement already satisfied: kiwisolver>=1.0.1 in ./anaconda3/lib/python3.11/site-packages (from matplotlib) (1.4.4)\n",
      "Requirement already satisfied: packaging>=20.0 in ./anaconda3/lib/python3.11/site-packages (from matplotlib) (23.1)\n",
      "Requirement already satisfied: pillow>=6.2.0 in ./anaconda3/lib/python3.11/site-packages (from matplotlib) (9.4.0)\n",
      "Requirement already satisfied: pyparsing<3.1,>=2.3.1 in ./anaconda3/lib/python3.11/site-packages (from matplotlib) (3.0.9)\n",
      "Requirement already satisfied: python-dateutil>=2.7 in ./anaconda3/lib/python3.11/site-packages (from matplotlib) (2.8.2)\n",
      "Requirement already satisfied: pytz>=2020.1 in ./anaconda3/lib/python3.11/site-packages (from pandas>=0.25->seaborn) (2023.3.post1)\n",
      "Requirement already satisfied: tzdata>=2022.1 in ./anaconda3/lib/python3.11/site-packages (from pandas>=0.25->seaborn) (2023.3)\n",
      "Requirement already satisfied: six>=1.5 in ./anaconda3/lib/python3.11/site-packages (from python-dateutil>=2.7->matplotlib) (1.16.0)\n",
      "Note: you may need to restart the kernel to use updated packages.\n"
     ]
    }
   ],
   "source": [
    "pip install seaborn matplotlib\n"
   ]
  },
  {
   "cell_type": "code",
   "execution_count": 13,
   "id": "ed6e0afa",
   "metadata": {},
   "outputs": [],
   "source": [
    "import numpy as np \n",
    "import pandas as pd\n",
    "import seaborn as sns  \n",
    "import matplotlib.pyplot as plt "
   ]
  },
  {
   "cell_type": "code",
   "execution_count": 14,
   "id": "dcfec606",
   "metadata": {},
   "outputs": [],
   "source": [
    "df = pd.read_csv('movies.csv')"
   ]
  },
  {
   "cell_type": "code",
   "execution_count": null,
   "id": "ab2919de",
   "metadata": {},
   "outputs": [],
   "source": [
    "# the data that we will be working with is the movies data. we will be breaking it down and looking for some components. "
   ]
  },
  {
   "cell_type": "code",
   "execution_count": 31,
   "id": "2a2d0f5c",
   "metadata": {},
   "outputs": [
    {
     "data": {
      "text/html": [
       "<div>\n",
       "<style scoped>\n",
       "    .dataframe tbody tr th:only-of-type {\n",
       "        vertical-align: middle;\n",
       "    }\n",
       "\n",
       "    .dataframe tbody tr th {\n",
       "        vertical-align: top;\n",
       "    }\n",
       "\n",
       "    .dataframe thead th {\n",
       "        text-align: right;\n",
       "    }\n",
       "</style>\n",
       "<table border=\"1\" class=\"dataframe\">\n",
       "  <thead>\n",
       "    <tr style=\"text-align: right;\">\n",
       "      <th></th>\n",
       "      <th>id</th>\n",
       "      <th>title</th>\n",
       "      <th>genres</th>\n",
       "      <th>original_language</th>\n",
       "      <th>popularity</th>\n",
       "      <th>production_companies</th>\n",
       "      <th>release_date</th>\n",
       "      <th>budget</th>\n",
       "      <th>revenue</th>\n",
       "      <th>runtime</th>\n",
       "      <th>status</th>\n",
       "      <th>tagline</th>\n",
       "      <th>vote_average</th>\n",
       "      <th>vote_count</th>\n",
       "      <th>credits</th>\n",
       "      <th>keywords</th>\n",
       "      <th>poster_path</th>\n",
       "      <th>backdrop_path</th>\n",
       "      <th>recommendations</th>\n",
       "    </tr>\n",
       "  </thead>\n",
       "  <tbody>\n",
       "    <tr>\n",
       "      <th>0</th>\n",
       "      <td>615096</td>\n",
       "      <td>A  Backyard in Nowhere</td>\n",
       "      <td>Documentary</td>\n",
       "      <td>en</td>\n",
       "      <td>0.600</td>\n",
       "      <td>Sellfish Media-Smatis Film</td>\n",
       "      <td>2011-12-03</td>\n",
       "      <td>0</td>\n",
       "      <td>0</td>\n",
       "      <td>52.0</td>\n",
       "      <td>Released</td>\n",
       "      <td>A fly fishing western</td>\n",
       "      <td>0.0</td>\n",
       "      <td>0</td>\n",
       "      <td>Peter A. Christensen-Mathis Eskjær-Peter Lyngb...</td>\n",
       "      <td>NaN</td>\n",
       "      <td>/e2AKUdtWR8xAX3es2sADmYv1kI6.jpg</td>\n",
       "      <td>NaN</td>\n",
       "      <td>NaN</td>\n",
       "    </tr>\n",
       "    <tr>\n",
       "      <th>1</th>\n",
       "      <td>937969</td>\n",
       "      <td>A  Girl Rogue</td>\n",
       "      <td>Action</td>\n",
       "      <td>zh</td>\n",
       "      <td>0.600</td>\n",
       "      <td>NaN</td>\n",
       "      <td>1983-01-01</td>\n",
       "      <td>0</td>\n",
       "      <td>0</td>\n",
       "      <td>0.0</td>\n",
       "      <td>Released</td>\n",
       "      <td>NaN</td>\n",
       "      <td>0.0</td>\n",
       "      <td>0</td>\n",
       "      <td>Liu Huifang-Qiu Mingxian-Cai Ronghua-Ma Sha-Wa...</td>\n",
       "      <td>NaN</td>\n",
       "      <td>/zRx1SAmbvIW7jtxXqxP2LG1wbM9.jpg</td>\n",
       "      <td>NaN</td>\n",
       "      <td>NaN</td>\n",
       "    </tr>\n",
       "    <tr>\n",
       "      <th>2</th>\n",
       "      <td>917386</td>\n",
       "      <td>A - B</td>\n",
       "      <td>Animation</td>\n",
       "      <td>pl</td>\n",
       "      <td>0.876</td>\n",
       "      <td>Studio Miniatur Filmowych</td>\n",
       "      <td>1978-08-22</td>\n",
       "      <td>0</td>\n",
       "      <td>0</td>\n",
       "      <td>4.0</td>\n",
       "      <td>Released</td>\n",
       "      <td>NaN</td>\n",
       "      <td>0.0</td>\n",
       "      <td>0</td>\n",
       "      <td>NaN</td>\n",
       "      <td>NaN</td>\n",
       "      <td>/gbKCTxanoZqYSuPwXCds4LY8LyY.jpg</td>\n",
       "      <td>NaN</td>\n",
       "      <td>NaN</td>\n",
       "    </tr>\n",
       "    <tr>\n",
       "      <th>3</th>\n",
       "      <td>822961</td>\n",
       "      <td>A '28-as'</td>\n",
       "      <td>Crime</td>\n",
       "      <td>hu</td>\n",
       "      <td>0.600</td>\n",
       "      <td>NaN</td>\n",
       "      <td>1943-01-01</td>\n",
       "      <td>0</td>\n",
       "      <td>0</td>\n",
       "      <td>0.0</td>\n",
       "      <td>Released</td>\n",
       "      <td>NaN</td>\n",
       "      <td>0.0</td>\n",
       "      <td>0</td>\n",
       "      <td>Tivadar Uray-Gerő Mály-Ági Mészáros-Zoltán Mak...</td>\n",
       "      <td>NaN</td>\n",
       "      <td>NaN</td>\n",
       "      <td>NaN</td>\n",
       "      <td>NaN</td>\n",
       "    </tr>\n",
       "    <tr>\n",
       "      <th>4</th>\n",
       "      <td>834640</td>\n",
       "      <td>A \"Normal\" Day for Art Students</td>\n",
       "      <td>Animation</td>\n",
       "      <td>id</td>\n",
       "      <td>0.600</td>\n",
       "      <td>NaN</td>\n",
       "      <td>2020-01-01</td>\n",
       "      <td>0</td>\n",
       "      <td>0</td>\n",
       "      <td>3.0</td>\n",
       "      <td>Released</td>\n",
       "      <td>NaN</td>\n",
       "      <td>0.0</td>\n",
       "      <td>0</td>\n",
       "      <td>NaN</td>\n",
       "      <td>short film</td>\n",
       "      <td>NaN</td>\n",
       "      <td>NaN</td>\n",
       "      <td>NaN</td>\n",
       "    </tr>\n",
       "  </tbody>\n",
       "</table>\n",
       "</div>"
      ],
      "text/plain": [
       "       id                            title       genres original_language  \\\n",
       "0  615096           A  Backyard in Nowhere  Documentary                en   \n",
       "1  937969                    A  Girl Rogue       Action                zh   \n",
       "2  917386                            A - B    Animation                pl   \n",
       "3  822961                        A '28-as'        Crime                hu   \n",
       "4  834640  A \"Normal\" Day for Art Students    Animation                id   \n",
       "\n",
       "   popularity        production_companies release_date  budget  revenue  \\\n",
       "0       0.600  Sellfish Media-Smatis Film   2011-12-03       0        0   \n",
       "1       0.600                         NaN   1983-01-01       0        0   \n",
       "2       0.876   Studio Miniatur Filmowych   1978-08-22       0        0   \n",
       "3       0.600                         NaN   1943-01-01       0        0   \n",
       "4       0.600                         NaN   2020-01-01       0        0   \n",
       "\n",
       "   runtime    status                tagline  vote_average  vote_count  \\\n",
       "0     52.0  Released  A fly fishing western           0.0           0   \n",
       "1      0.0  Released                    NaN           0.0           0   \n",
       "2      4.0  Released                    NaN           0.0           0   \n",
       "3      0.0  Released                    NaN           0.0           0   \n",
       "4      3.0  Released                    NaN           0.0           0   \n",
       "\n",
       "                                             credits    keywords  \\\n",
       "0  Peter A. Christensen-Mathis Eskjær-Peter Lyngb...         NaN   \n",
       "1  Liu Huifang-Qiu Mingxian-Cai Ronghua-Ma Sha-Wa...         NaN   \n",
       "2                                                NaN         NaN   \n",
       "3  Tivadar Uray-Gerő Mály-Ági Mészáros-Zoltán Mak...         NaN   \n",
       "4                                                NaN  short film   \n",
       "\n",
       "                        poster_path backdrop_path recommendations  \n",
       "0  /e2AKUdtWR8xAX3es2sADmYv1kI6.jpg           NaN             NaN  \n",
       "1  /zRx1SAmbvIW7jtxXqxP2LG1wbM9.jpg           NaN             NaN  \n",
       "2  /gbKCTxanoZqYSuPwXCds4LY8LyY.jpg           NaN             NaN  \n",
       "3                               NaN           NaN             NaN  \n",
       "4                               NaN           NaN             NaN  "
      ]
     },
     "execution_count": 31,
     "metadata": {},
     "output_type": "execute_result"
    }
   ],
   "source": [
    "df.head()"
   ]
  },
  {
   "cell_type": "code",
   "execution_count": 32,
   "id": "56d167d9",
   "metadata": {
    "scrolled": true
   },
   "outputs": [
    {
     "data": {
      "text/plain": [
       "id                           0\n",
       "title                        2\n",
       "genres                       0\n",
       "original_language            0\n",
       "popularity                   0\n",
       "production_companies    135859\n",
       "release_date              9649\n",
       "budget                       0\n",
       "revenue                      0\n",
       "runtime                  11868\n",
       "status                       0\n",
       "tagline                 260604\n",
       "vote_average                 0\n",
       "vote_count                   0\n",
       "credits                  76947\n",
       "keywords                198633\n",
       "poster_path              70879\n",
       "backdrop_path           204817\n",
       "recommendations         290292\n",
       "dtype: int64"
      ]
     },
     "execution_count": 32,
     "metadata": {},
     "output_type": "execute_result"
    }
   ],
   "source": [
    "df.isnull().sum()"
   ]
  },
  {
   "cell_type": "code",
   "execution_count": null,
   "id": "4abdb74c",
   "metadata": {},
   "outputs": [],
   "source": [
    "#what is the average vote from all the movies?"
   ]
  },
  {
   "cell_type": "code",
   "execution_count": 34,
   "id": "d849338d",
   "metadata": {
    "scrolled": false
   },
   "outputs": [
    {
     "name": "stdout",
     "output_type": "stream",
     "text": [
      "Average vote: 2.4999892571976785\n"
     ]
    }
   ],
   "source": [
    "df['vote_average'].mean()\n"
   ]
  },
  {
   "cell_type": "code",
   "execution_count": null,
   "id": "bea84757",
   "metadata": {},
   "outputs": [],
   "source": [
    "#Movie with the Highest popularity:"
   ]
  },
  {
   "cell_type": "code",
   "execution_count": 65,
   "id": "39b20ce0",
   "metadata": {},
   "outputs": [
    {
     "data": {
      "text/plain": [
       "'The Eighth Clause'"
      ]
     },
     "execution_count": 65,
     "metadata": {},
     "output_type": "execute_result"
    }
   ],
   "source": [
    "highest_rated_movie = df.loc[df['popularity'].idxmax()]\n",
    "highest_rated_movie['title']\n"
   ]
  },
  {
   "cell_type": "code",
   "execution_count": null,
   "id": "c7096259",
   "metadata": {},
   "outputs": [],
   "source": [
    "#Number of Movies in the Dataset:"
   ]
  },
  {
   "cell_type": "code",
   "execution_count": 61,
   "id": "f964aa5f",
   "metadata": {},
   "outputs": [
    {
     "data": {
      "text/plain": [
       "300201"
      ]
     },
     "execution_count": 61,
     "metadata": {},
     "output_type": "execute_result"
    }
   ],
   "source": [
    "len(df)"
   ]
  },
  {
   "cell_type": "code",
   "execution_count": null,
   "id": "1d9f0d95",
   "metadata": {},
   "outputs": [],
   "source": [
    "#Average Runtime of Movies:"
   ]
  },
  {
   "cell_type": "code",
   "execution_count": 66,
   "id": "78c9fe93",
   "metadata": {},
   "outputs": [
    {
     "data": {
      "text/plain": [
       "52.529537028366505"
      ]
     },
     "execution_count": 66,
     "metadata": {},
     "output_type": "execute_result"
    }
   ],
   "source": [
    "df['runtime'].mean()"
   ]
  },
  {
   "cell_type": "code",
   "execution_count": null,
   "id": "d2c62500",
   "metadata": {},
   "outputs": [],
   "source": [
    "#Actor Appearing in the Most Movies:\n"
   ]
  },
  {
   "cell_type": "code",
   "execution_count": 68,
   "id": "851b37a7",
   "metadata": {},
   "outputs": [
    {
     "name": "stdout",
     "output_type": "stream",
     "text": [
      "Actor appearing in the most movies: Mel Blanc\n"
     ]
    }
   ],
   "source": [
    "actor_counts = df['credits'].str.split('|', expand=True).stack().value_counts()\n",
    "most_common_actor = actor_counts.idxmax()\n",
    "print(\"Actor appearing in the most movies:\", most_common_actor)\n"
   ]
  },
  {
   "cell_type": "code",
   "execution_count": null,
   "id": "91e04657",
   "metadata": {},
   "outputs": [],
   "source": [
    "# what are the top 3 genres"
   ]
  },
  {
   "cell_type": "code",
   "execution_count": 39,
   "id": "93fda60c",
   "metadata": {},
   "outputs": [
    {
     "name": "stdout",
     "output_type": "stream",
     "text": [
      "Top 3 genres:\n",
      "Documentary    92275\n",
      "Drama          77427\n",
      "Comedy         44716\n",
      "Name: count, dtype: int64\n"
     ]
    }
   ],
   "source": [
    "\n",
    "genres = df['genres'].str.split('|', expand=True).stack()\n",
    "\n",
    "genre_counts = genres.value_counts()\n",
    "\n",
    "sorted_genres = genre_counts.sort_values(ascending=False)\n",
    "\n",
    "top_3_genres = sorted_genres.head(3)\n",
    "\n",
    "print(\"Top 3 genres:\")\n",
    "print(top_3_genres)\n"
   ]
  },
  {
   "cell_type": "code",
   "execution_count": null,
   "id": "9b5b0014",
   "metadata": {},
   "outputs": [],
   "source": [
    "# use groupby to find the top 3 genres"
   ]
  },
  {
   "cell_type": "code",
   "execution_count": 40,
   "id": "9106f95e",
   "metadata": {},
   "outputs": [
    {
     "name": "stdout",
     "output_type": "stream",
     "text": [
      "Top 3 genres:\n",
      "0       Documentary    1\n",
      "200122  Documentary    1\n",
      "200138  Documentary    1\n",
      "Name: count, dtype: int64\n"
     ]
    }
   ],
   "source": [
    "\n",
    "genres = df['genres'].str.split('|', expand=True)\n",
    "\n",
    "genres_stacked = genres.stack()\n",
    "\n",
    "genre_counts = genres_stacked.groupby(level=0).value_counts()\n",
    "\n",
    "sorted_genres = genre_counts.sort_values(ascending=False)\n",
    "\n",
    "top_3_genres = sorted_genres.head(3)\n",
    "\n",
    "print(\"Top 3 genres:\")\n",
    "print(top_3_genres)\n"
   ]
  },
  {
   "cell_type": "code",
   "execution_count": null,
   "id": "97f28683",
   "metadata": {},
   "outputs": [],
   "source": [
    "#Identify movies with the highest average ratings.\n"
   ]
  },
  {
   "cell_type": "code",
   "execution_count": 45,
   "id": "d955f37b",
   "metadata": {
    "scrolled": true
   },
   "outputs": [
    {
     "name": "stdout",
     "output_type": "stream",
     "text": [
      "Top 10 movies with the highest popoluarity:\n",
      "title\n",
      "The Eighth Clause               2259.303\n",
      "Lord of the Streets             1691.825\n",
      "Berlin Drifters                  918.173\n",
      "There Are No Saints              903.860\n",
      "Bar Fight                        626.541\n",
      "The Trip 6                       610.333\n",
      "The Whale                        499.494\n",
      "Avatar: Scene Deconstruction     473.433\n",
      "The Offering                     440.291\n",
      "Evil Eye                         435.109\n",
      "Name: popularity, dtype: float64\n"
     ]
    }
   ],
   "source": [
    "average_ratings = df.groupby('title')['popularity'].mean()\n",
    "\n",
    "# Sort the movies by average rating in descending order\n",
    "sorted_movies = average_ratings.sort_values(ascending=False)\n",
    "\n",
    "# Select the top 10 movies with the highest average ratings\n",
    "top_movies = sorted_movies.head(10)\n",
    "\n",
    "print(\"Top 10 movies with the highest popoluarity:\")\n",
    "print(top_movies)"
   ]
  },
  {
   "cell_type": "code",
   "execution_count": null,
   "id": "cf241877",
   "metadata": {},
   "outputs": [],
   "source": [
    "#how many movies have released as their status"
   ]
  },
  {
   "cell_type": "code",
   "execution_count": 48,
   "id": "67192052",
   "metadata": {},
   "outputs": [
    {
     "data": {
      "text/plain": [
       "298110"
      ]
     },
     "execution_count": 48,
     "metadata": {},
     "output_type": "execute_result"
    }
   ],
   "source": [
    "released_movies = df[df['status'] == 'Released']\n",
    "released_count\n"
   ]
  },
  {
   "cell_type": "code",
   "execution_count": null,
   "id": "f349b3df",
   "metadata": {},
   "outputs": [],
   "source": [
    "#plot genre according number of movies"
   ]
  },
  {
   "cell_type": "code",
   "execution_count": 69,
   "id": "d2231b02",
   "metadata": {},
   "outputs": [
    {
     "data": {
      "image/png": "[encoded data removed]",
      "text/plain": [
       "<Figure size 1000x600 with 1 Axes>"
      ]
     },
     "metadata": {},
     "output_type": "display_data"
    }
   ],
   "source": [
    "\n",
    "import matplotlib.pyplot as plt\n",
    "\n",
    "genres_split = df['genres'].str.split('|', expand=True)\n",
    "stacked_genres = genres_split.stack()\n",
    "\n",
    "genre_counts = stacked_genres.value_counts()\n",
    "\n",
    "# Plot the bar graph\n",
    "plt.figure(figsize=(10, 6))\n",
    "genre_counts.plot(kind='bar', color='skyblue')\n",
    "plt.xlabel('Genre')\n",
    "plt.ylabel('Number of Movies')\n",
    "plt.title('Number of Movies by Genre')\n",
    "plt.xticks(rotation=45)\n",
    "plt.grid(axis='y', linestyle='--', alpha=0.7)\n",
    "plt.tight_layout()\n",
    "plt.show()\n"
   ]
  },
  {
   "cell_type": "code",
   "execution_count": 71,
   "id": "e2658e2a",
   "metadata": {},
   "outputs": [
    {
     "data": {
      "image/png": "[encoded data removed]",
      "text/plain": [
       "<Figure size 800x800 with 1 Axes>"
      ]
     },
     "metadata": {},
     "output_type": "display_data"
    }
   ],
   "source": [
    "filtered_df = df[df['genres'].str.contains('Animation|Comedy|Drama|Documentary', regex=True)]\n",
    "\n",
    "genres_split = filtered_df['genres'].str.split('|', expand=True)\n",
    "\n",
    "stacked_genres = genres_split.stack()\n",
    "\n",
    "genre_counts = stacked_genres.value_counts()\n",
    "\n",
    "genre_counts_df = pd.DataFrame(genre_counts, columns=['count'])\n",
    "\n",
    "# Plot the pie chart\n",
    "genre_counts_df.plot.pie(y='count', figsize=(8, 8), autopct='%1.1f%%', startangle=140, legend=False)\n",
    "plt.title('Distribution of Movie Genres (Animation, Comedy, Drama, Documentary)')\n",
    "plt.ylabel('')  \n",
    "plt.show()\n"
   ]
  },
  {
   "cell_type": "code",
   "execution_count": null,
   "id": "652949df",
   "metadata": {},
   "outputs": [],
   "source": [
    "#In this project we have looked at the avergaes of "
   ]
  }
 ],
 "metadata": {
  "kernelspec": {
   "display_name": "Python 3 (ipykernel)",
   "language": "python",
   "name": "python3"
  },
  "language_info": {
   "codemirror_mode": {
    "name": "ipython",
    "version": 3
   },
   "file_extension": ".py",
   "mimetype": "text/x-python",
   "name": "python",
   "nbconvert_exporter": "python",
   "pygments_lexer": "ipython3",
   "version": "3.11.5"
  }
 },
 "nbformat": 4,
 "nbformat_minor": 5
}
